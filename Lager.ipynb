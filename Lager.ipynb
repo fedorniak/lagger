{
 "cells": [
  {
   "cell_type": "markdown",
   "id": "86732490-8be4-49d5-9646-ae751563cd44",
   "metadata": {},
   "source": [
    "# Функція Лагера"
   ]
  },
  {
   "cell_type": "code",
   "execution_count": 1,
   "id": "3f3d3a88-5977-49a0-ae52-bf81e71876d4",
   "metadata": {
    "tags": []
   },
   "outputs": [],
   "source": [
    "import numpy as np\n",
    "import matplotlib.pyplot as plt\n",
    "import pandas as pd\n",
    "import ipywidgets as widgets\n",
    "from ipywidgets import interact"
   ]
  },
  {
   "cell_type": "markdown",
   "id": "779d5c95-6f8f-40c1-88fb-bd30c92c48dc",
   "metadata": {
    "tags": []
   },
   "source": [
    "## Обчислення функції Лагера з заданими β = 2, σ = 4"
   ]
  },
  {
   "cell_type": "code",
   "execution_count": 24,
   "id": "1f1eec36-783a-4292-88c1-d9d22d115987",
   "metadata": {
    "tags": []
   },
   "outputs": [],
   "source": [
    "#task1\n",
    "def lager(t, n, beta=2, sigma=4):\n",
    "    if beta>sigma or beta<0:\n",
    "        raise ValueError(\"Bad beta and sigma\")\n",
    "    \n",
    "    l0 = np.sqrt(sigma) * (np.exp(-beta * t / 2))\n",
    "    l1 = np.sqrt(sigma) * (1 - sigma * t) * (np.exp(-beta * t / 2))\n",
    "    if n==0:\n",
    "        return l0\n",
    "    if n==1:\n",
    "        return l1\n",
    "    if n>=2:\n",
    "        ln=(2 * 2 - 1 - t * sigma) / 2 * l1 - (2 - 1) / 2 * l0\n",
    "        for j in range(3, n+1):\n",
    "            l0 = l1\n",
    "            l1 = ln\n",
    "            ln = (2 * j - 1 - t * sigma) / j * l1 - (j - 1) / j * l0\n",
    "        return ln    "
   ]
  },
  {
   "cell_type": "code",
   "execution_count": 25,
   "id": "1ac130c6-ca46-4bd2-b53a-1eaa6d44fa2e",
   "metadata": {
    "tags": []
   },
   "outputs": [
    {
     "data": {
      "application/vnd.jupyter.widget-view+json": {
       "model_id": "307a376aa8ff49afbda7986df567f2d2",
       "version_major": 2,
       "version_minor": 0
      },
      "text/plain": [
       "interactive(children=(IntSlider(value=1, description='T:', max=20, min=1), IntSlider(value=1, description='N:'…"
      ]
     },
     "metadata": {},
     "output_type": "display_data"
    },
    {
     "data": {
      "text/plain": [
       "<function __main__.lager(t, n, beta=2, sigma=4)>"
      ]
     },
     "execution_count": 25,
     "metadata": {},
     "output_type": "execute_result"
    }
   ],
   "source": [
    "widgets.interact(lager, t=widgets.IntSlider(description=\"T:\",min=1, max=20, value=1), n=widgets.IntSlider(description=\"N:\", min=1, max=20, value=1),)"
   ]
  },
  {
   "cell_type": "code",
   "execution_count": 4,
   "id": "47bbb0cf-9150-4846-9b74-3b1047008ff2",
   "metadata": {
    "tags": []
   },
   "outputs": [
    {
     "name": "stdout",
     "output_type": "stream",
     "text": [
      "1.7167707254667308\n"
     ]
    }
   ],
   "source": [
    "print(lager(1,3))    "
   ]
  },
  {
   "cell_type": "markdown",
   "id": "666e4aa1-6713-47fa-8c5b-e9f65c2101a8",
   "metadata": {},
   "source": [
    "##  Табулювання функції Лагера"
   ]
  },
  {
   "cell_type": "code",
   "execution_count": 5,
   "id": "35d51bae-f917-4eb8-aa22-8a74237313c6",
   "metadata": {
    "tags": []
   },
   "outputs": [],
   "source": [
    "#task 2\n",
    "def tabulate_lager(T,n,beta=2, sigma=4):\n",
    "    steps=np.linspace(0,T,100)\n",
    "    results = lager(steps, n, beta, sigma)\n",
    "    df = pd.DataFrame({'t': steps, 'l': results})\n",
    "    return df.round(5)"
   ]
  },
  {
   "cell_type": "code",
   "execution_count": 6,
   "id": "0e5e8f26-3217-49cb-8283-816fe94ab8d5",
   "metadata": {
    "tags": []
   },
   "outputs": [
    {
     "data": {
      "text/html": [
       "<div>\n",
       "<style scoped>\n",
       "    .dataframe tbody tr th:only-of-type {\n",
       "        vertical-align: middle;\n",
       "    }\n",
       "\n",
       "    .dataframe tbody tr th {\n",
       "        vertical-align: top;\n",
       "    }\n",
       "\n",
       "    .dataframe thead th {\n",
       "        text-align: right;\n",
       "    }\n",
       "</style>\n",
       "<table border=\"1\" class=\"dataframe\">\n",
       "  <thead>\n",
       "    <tr style=\"text-align: right;\">\n",
       "      <th></th>\n",
       "      <th>t</th>\n",
       "      <th>l</th>\n",
       "    </tr>\n",
       "  </thead>\n",
       "  <tbody>\n",
       "    <tr>\n",
       "      <th>0</th>\n",
       "      <td>0.00000</td>\n",
       "      <td>2.00000</td>\n",
       "    </tr>\n",
       "    <tr>\n",
       "      <th>1</th>\n",
       "      <td>0.10101</td>\n",
       "      <td>0.49453</td>\n",
       "    </tr>\n",
       "    <tr>\n",
       "      <th>2</th>\n",
       "      <td>0.20202</td>\n",
       "      <td>-0.47336</td>\n",
       "    </tr>\n",
       "    <tr>\n",
       "      <th>3</th>\n",
       "      <td>0.30303</td>\n",
       "      <td>-1.01868</td>\n",
       "    </tr>\n",
       "    <tr>\n",
       "      <th>4</th>\n",
       "      <td>0.40404</td>\n",
       "      <td>-1.23687</td>\n",
       "    </tr>\n",
       "    <tr>\n",
       "      <th>...</th>\n",
       "      <td>...</td>\n",
       "      <td>...</td>\n",
       "    </tr>\n",
       "    <tr>\n",
       "      <th>95</th>\n",
       "      <td>9.59596</td>\n",
       "      <td>0.08989</td>\n",
       "    </tr>\n",
       "    <tr>\n",
       "      <th>96</th>\n",
       "      <td>9.69697</td>\n",
       "      <td>0.08307</td>\n",
       "    </tr>\n",
       "    <tr>\n",
       "      <th>97</th>\n",
       "      <td>9.79798</td>\n",
       "      <td>0.07675</td>\n",
       "    </tr>\n",
       "    <tr>\n",
       "      <th>98</th>\n",
       "      <td>9.89899</td>\n",
       "      <td>0.07089</td>\n",
       "    </tr>\n",
       "    <tr>\n",
       "      <th>99</th>\n",
       "      <td>10.00000</td>\n",
       "      <td>0.06547</td>\n",
       "    </tr>\n",
       "  </tbody>\n",
       "</table>\n",
       "<p>100 rows × 2 columns</p>\n",
       "</div>"
      ],
      "text/plain": [
       "           t        l\n",
       "0    0.00000  2.00000\n",
       "1    0.10101  0.49453\n",
       "2    0.20202 -0.47336\n",
       "3    0.30303 -1.01868\n",
       "4    0.40404 -1.23687\n",
       "..       ...      ...\n",
       "95   9.59596  0.08989\n",
       "96   9.69697  0.08307\n",
       "97   9.79798  0.07675\n",
       "98   9.89899  0.07089\n",
       "99  10.00000  0.06547\n",
       "\n",
       "[100 rows x 2 columns]"
      ]
     },
     "execution_count": 6,
     "metadata": {},
     "output_type": "execute_result"
    }
   ],
   "source": [
    "tabulate_lager(10, 2)"
   ]
  },
  {
   "cell_type": "markdown",
   "id": "0dbff9f7-63d8-4d76-8d3f-d3e882342353",
   "metadata": {},
   "source": [
    "##  Обчислювальний експеримент"
   ]
  },
  {
   "cell_type": "code",
   "execution_count": 7,
   "id": "940e0754-ce30-48ae-8ee3-dc992f966d0c",
   "metadata": {
    "tags": []
   },
   "outputs": [],
   "source": [
    "#task 3\n",
    "def experiment(T, beta=2, sigma=4, epsilon=0.001, N=20):\n",
    "    t = np.linspace(0, T, 1000)\n",
    "    n = range(1, N+1)\n",
    "    res=None\n",
    "    for i in t:\n",
    "        is_good=True\n",
    "        for j in n:\n",
    "            if abs(lager(i,j,beta,sigma))>epsilon:\n",
    "                is_good=False\n",
    "                break\n",
    "        if is_good and res is None:\n",
    "            res = i\n",
    "            break  \n",
    "    return res, pd.DataFrame(\n",
    "        data={\n",
    "            'n': n,\n",
    "            'L_n': [lager(res,i, beta, sigma) for i in n]})\n",
    "            "
   ]
  },
  {
   "cell_type": "code",
   "execution_count": 8,
   "id": "de537da3-7d66-4335-8a94-8c3920314562",
   "metadata": {
    "tags": []
   },
   "outputs": [
    {
     "data": {
      "text/html": [
       "<div>\n",
       "<style scoped>\n",
       "    .dataframe tbody tr th:only-of-type {\n",
       "        vertical-align: middle;\n",
       "    }\n",
       "\n",
       "    .dataframe tbody tr th {\n",
       "        vertical-align: top;\n",
       "    }\n",
       "\n",
       "    .dataframe thead th {\n",
       "        text-align: right;\n",
       "    }\n",
       "</style>\n",
       "<table border=\"1\" class=\"dataframe\">\n",
       "  <thead>\n",
       "    <tr style=\"text-align: right;\">\n",
       "      <th></th>\n",
       "      <th>n</th>\n",
       "      <th>L_n</th>\n",
       "    </tr>\n",
       "  </thead>\n",
       "  <tbody>\n",
       "    <tr>\n",
       "      <th>0</th>\n",
       "      <td>1</td>\n",
       "      <td>-2.858701e-32</td>\n",
       "    </tr>\n",
       "    <tr>\n",
       "      <th>1</th>\n",
       "      <td>2</td>\n",
       "      <td>4.478343e-30</td>\n",
       "    </tr>\n",
       "    <tr>\n",
       "      <th>2</th>\n",
       "      <td>3</td>\n",
       "      <td>-4.647081e-28</td>\n",
       "    </tr>\n",
       "    <tr>\n",
       "      <th>3</th>\n",
       "      <td>4</td>\n",
       "      <td>3.593209e-26</td>\n",
       "    </tr>\n",
       "    <tr>\n",
       "      <th>4</th>\n",
       "      <td>5</td>\n",
       "      <td>-2.208132e-24</td>\n",
       "    </tr>\n",
       "    <tr>\n",
       "      <th>5</th>\n",
       "      <td>6</td>\n",
       "      <td>1.123332e-22</td>\n",
       "    </tr>\n",
       "    <tr>\n",
       "      <th>6</th>\n",
       "      <td>7</td>\n",
       "      <td>-4.865604e-21</td>\n",
       "    </tr>\n",
       "    <tr>\n",
       "      <th>7</th>\n",
       "      <td>8</td>\n",
       "      <td>1.831625e-19</td>\n",
       "    </tr>\n",
       "    <tr>\n",
       "      <th>8</th>\n",
       "      <td>9</td>\n",
       "      <td>-6.087176e-18</td>\n",
       "    </tr>\n",
       "    <tr>\n",
       "      <th>9</th>\n",
       "      <td>10</td>\n",
       "      <td>1.808168e-16</td>\n",
       "    </tr>\n",
       "    <tr>\n",
       "      <th>10</th>\n",
       "      <td>11</td>\n",
       "      <td>-4.848845e-15</td>\n",
       "    </tr>\n",
       "    <tr>\n",
       "      <th>11</th>\n",
       "      <td>12</td>\n",
       "      <td>1.183547e-13</td>\n",
       "    </tr>\n",
       "    <tr>\n",
       "      <th>12</th>\n",
       "      <td>13</td>\n",
       "      <td>-2.647728e-12</td>\n",
       "    </tr>\n",
       "    <tr>\n",
       "      <th>13</th>\n",
       "      <td>14</td>\n",
       "      <td>5.460659e-11</td>\n",
       "    </tr>\n",
       "    <tr>\n",
       "      <th>14</th>\n",
       "      <td>15</td>\n",
       "      <td>-1.043487e-09</td>\n",
       "    </tr>\n",
       "    <tr>\n",
       "      <th>15</th>\n",
       "      <td>16</td>\n",
       "      <td>1.855654e-08</td>\n",
       "    </tr>\n",
       "    <tr>\n",
       "      <th>16</th>\n",
       "      <td>17</td>\n",
       "      <td>-3.082750e-07</td>\n",
       "    </tr>\n",
       "    <tr>\n",
       "      <th>17</th>\n",
       "      <td>18</td>\n",
       "      <td>4.800407e-06</td>\n",
       "    </tr>\n",
       "    <tr>\n",
       "      <th>18</th>\n",
       "      <td>19</td>\n",
       "      <td>-7.027805e-05</td>\n",
       "    </tr>\n",
       "    <tr>\n",
       "      <th>19</th>\n",
       "      <td>20</td>\n",
       "      <td>9.699021e-04</td>\n",
       "    </tr>\n",
       "  </tbody>\n",
       "</table>\n",
       "</div>"
      ],
      "text/plain": [
       "     n           L_n\n",
       "0    1 -2.858701e-32\n",
       "1    2  4.478343e-30\n",
       "2    3 -4.647081e-28\n",
       "3    4  3.593209e-26\n",
       "4    5 -2.208132e-24\n",
       "5    6  1.123332e-22\n",
       "6    7 -4.865604e-21\n",
       "7    8  1.831625e-19\n",
       "8    9 -6.087176e-18\n",
       "9   10  1.808168e-16\n",
       "10  11 -4.848845e-15\n",
       "11  12  1.183547e-13\n",
       "12  13 -2.647728e-12\n",
       "13  14  5.460659e-11\n",
       "14  15 -1.043487e-09\n",
       "15  16  1.855654e-08\n",
       "16  17 -3.082750e-07\n",
       "17  18  4.800407e-06\n",
       "18  19 -7.027805e-05\n",
       "19  20  9.699021e-04"
      ]
     },
     "execution_count": 8,
     "metadata": {},
     "output_type": "execute_result"
    }
   ],
   "source": [
    "res, df=experiment(100)\n",
    "df"
   ]
  },
  {
   "cell_type": "code",
   "execution_count": 9,
   "id": "5af55347-e171-4366-98d7-b3c098fb2fbc",
   "metadata": {
    "tags": []
   },
   "outputs": [
    {
     "data": {
      "text/plain": [
       "79.07907907907908"
      ]
     },
     "execution_count": 9,
     "metadata": {},
     "output_type": "execute_result"
    }
   ],
   "source": [
    "res"
   ]
  },
  {
   "cell_type": "markdown",
   "id": "89fd8305-3c50-4b5e-a453-d03f9bb9590a",
   "metadata": {},
   "source": [
    "##  Обчислення інтегралів"
   ]
  },
  {
   "cell_type": "code",
   "execution_count": 10,
   "id": "f58776c5-ad44-4c1f-ac68-c6f157c922de",
   "metadata": {
    "tags": []
   },
   "outputs": [],
   "source": [
    "#task 4\n",
    "def quad(f,a,b,n=10000):\n",
    "    x = np.linspace(a, b, n)\n",
    "    s=sum([f(i) for i in x])\n",
    "    return s*abs(b-a)/n\n",
    "\n",
    "def lager_transformation(f,n,beta=2,sigma=4):\n",
    "    def integrand(t):\n",
    "        alpha = sigma - beta\n",
    "        return f(t)*lager(t, n, beta, sigma)*np.exp(-t*(alpha))\n",
    "    b=experiment(100,beta,sigma)[0]\n",
    "    return quad(integrand, 0, b)"
   ]
  },
  {
   "cell_type": "markdown",
   "id": "3be34a47-1f26-420f-bbdd-1d135d2b3b4e",
   "metadata": {},
   "source": [
    "##  Перетворення Лагера"
   ]
  },
  {
   "cell_type": "code",
   "execution_count": 11,
   "id": "6a433b74-6cf9-48da-a85a-0e8ed5a86482",
   "metadata": {
    "tags": []
   },
   "outputs": [],
   "source": [
    "#task 5\n",
    "def f(t):\n",
    "    if 0 <= t <= 2 * np.pi:\n",
    "        return np.sin(t - np.pi / 2) + 1\n",
    "    elif t > 2 * np.pi:\n",
    "        return 0\n",
    "def lag_transform_tab(f, N, beta=2, sigma=4):\n",
    "    t = range(0, N+1)\n",
    "    results= [lager_transformation(f, n, beta, sigma) for n in t]\n",
    "    return results"
   ]
  },
  {
   "cell_type": "code",
   "execution_count": 12,
   "id": "41e36344-efba-48f0-b250-4513c838eb1e",
   "metadata": {
    "tags": []
   },
   "outputs": [
    {
     "data": {
      "text/plain": [
       "[0.06665999946809152,\n",
       " -0.1822039881310192,\n",
       " 0.17805610913078898,\n",
       " -0.07428266950003064,\n",
       " 0.007262784325811685,\n",
       " 0.007587430478937871,\n",
       " -0.0030964949450654716,\n",
       " -0.0006148703444646452,\n",
       " 0.0007994250066752804,\n",
       " -2.585015381200521e-05,\n",
       " -0.00023592602139503555,\n",
       " 5.25696009550527e-05,\n",
       " 9.381390277833157e-05,\n",
       " -3.067668357428691e-05,\n",
       " -5.265835095609882e-05,\n",
       " 1.097528013687396e-05,\n",
       " 3.6161726975307814e-05,\n",
       " 4.547654883237792e-06,\n",
       " -2.3361494137767873e-05,\n",
       " -1.4823620942373442e-05,\n",
       " 8.910978104648701e-06]"
      ]
     },
     "execution_count": 12,
     "metadata": {},
     "output_type": "execute_result"
    }
   ],
   "source": [
    "lag_transform_tab(f, 20)"
   ]
  },
  {
   "cell_type": "markdown",
   "id": "54e84a65-4f0a-40ef-99aa-87e2e1758b11",
   "metadata": {},
   "source": [
    "##  Обернене перетвореня Лагера"
   ]
  },
  {
   "cell_type": "code",
   "execution_count": 13,
   "id": "39c184ec-11ed-4219-9192-fc203b35c159",
   "metadata": {
    "tags": []
   },
   "outputs": [],
   "source": [
    "#task 6\n",
    "def reverse_lager_transform(h,t,beta=2,sigma=4):\n",
    "    return sum([h[k] * lager(t,k) for k in range(len(h))])\n"
   ]
  },
  {
   "cell_type": "code",
   "execution_count": 14,
   "id": "e0733481-0fc4-48ce-9337-93486655c9f9",
   "metadata": {
    "tags": []
   },
   "outputs": [
    {
     "data": {
      "text/plain": [
       "1.4159846887860223"
      ]
     },
     "execution_count": 14,
     "metadata": {},
     "output_type": "execute_result"
    }
   ],
   "source": [
    "h=lag_transform_tab(f, 20,2,4)\n",
    "reverse_lager_transform(h,2,2,4)"
   ]
  },
  {
   "cell_type": "markdown",
   "id": "8166a5af-341e-4d8f-b1ba-14e483af4591",
   "metadata": {},
   "source": [
    "##  Графік функції Лагера"
   ]
  },
  {
   "cell_type": "code",
   "execution_count": 15,
   "id": "9b4a7d07-2255-4640-9600-803e6cc7345b",
   "metadata": {
    "tags": []
   },
   "outputs": [],
   "source": [
    "#task 7\n",
    "def plot_lager(t, n, beta=2, sigma=4):\n",
    "    plt.figure(figsize=(10, 10))\n",
    "    for i in range(n + 1):\n",
    "        lager_results = tabulate_lager(t, i)\n",
    "        plt.plot(lager_results.index, lager_results[\"l\"], label=f'n={i}')\n",
    "    plt.show()\n"
   ]
  },
  {
   "cell_type": "code",
   "execution_count": 32,
   "id": "355b0bac-39fb-4300-b76b-6de8d74c32d5",
   "metadata": {
    "tags": []
   },
   "outputs": [],
   "source": [
    "#task7\n",
    "def plot_lagger(T, n, beta=2, sigma=4):\n",
    "    plt.figure(figsize=(8, 8))\n",
    "    for i in range(n+1):\n",
    "        lagger_values = tabulate_lager(T, i, beta, sigma)\n",
    "        plt.plot(lagger_values['t'], lagger_values['l'], label=f\"n={i}\")\n",
    "    \n",
    "    plt.xlabel(\"t\")\n",
    "    plt.ylabel(\"l(t)\")\n",
    "    plt.title(\"Функції Лагера\")\n",
    "    plt.legend(loc=\"lower left\", ncol=3)\n",
    "    plt.show()"
   ]
  },
  {
   "cell_type": "code",
   "execution_count": 34,
   "id": "b993d344-0517-4265-9349-4fd8476b058a",
   "metadata": {
    "tags": []
   },
   "outputs": [
    {
     "data": {
      "application/vnd.jupyter.widget-view+json": {
       "model_id": "ca032e5579b349c8869bf991d8effc6a",
       "version_major": 2,
       "version_minor": 0
      },
      "text/plain": [
       "interactive(children=(IntSlider(value=1, description='T:', max=20, min=1), IntSlider(value=1, description='N:'…"
      ]
     },
     "metadata": {},
     "output_type": "display_data"
    },
    {
     "data": {
      "text/plain": [
       "<function __main__.plot_lagger(T, n, beta=2, sigma=4)>"
      ]
     },
     "execution_count": 34,
     "metadata": {},
     "output_type": "execute_result"
    }
   ],
   "source": [
    "widgets.interact(plot_lagger, T=widgets.IntSlider(description=\"T:\",min=1, max=20, value=1), n=widgets.IntSlider(description=\"N:\", min=1, max=20, value=1),beta=widgets.fixed(2), sigma=widgets.fixed(4))"
   ]
  },
  {
   "cell_type": "code",
   "execution_count": 18,
   "id": "ac9444e1-cb42-4928-925d-36d356b8eee5",
   "metadata": {
    "tags": []
   },
   "outputs": [
    {
     "data": {
      "image/png": "[encoded data removed]",
      "text/plain": [
       "<Figure size 1000x1000 with 1 Axes>"
      ]
     },
     "metadata": {},
     "output_type": "display_data"
    }
   ],
   "source": [
    "plot_lagger(5,10)"
   ]
  },
  {
   "cell_type": "markdown",
   "id": "ae3b0676-d06a-4662-a0b7-993af8ca2c4c",
   "metadata": {},
   "source": [
    "##  Графік оберненого перетворення Лагера"
   ]
  },
  {
   "cell_type": "markdown",
   "id": "50423bbc-239d-4cba-a40a-88b4f3e41d97",
   "metadata": {},
   "source": [
    "###  Для заданої функції"
   ]
  },
  {
   "cell_type": "code",
   "execution_count": 19,
   "id": "609f551a-de2c-493e-aa26-613b36fc3cdd",
   "metadata": {
    "tags": []
   },
   "outputs": [],
   "source": [
    "#task8\n",
    "def plot_transformations(f, n, beta=2, sigma=4,t1=0, t2=2*np.pi):\n",
    "\n",
    "    transformed_values = lag_transform_tab(f,n,beta,sigma)\n",
    "    reversed_trans_vals = [reverse_lager_transform(transformed_values, t, beta, sigma) for t in np.linspace(t1, t2, 1000)]\n",
    "    correct_vals=[f(t) for t in np.linspace(t1, t2, 1000)]\n",
    "    fig = plt.figure(figsize=(10, 10))\n",
    "    ax = fig.subplots(2, 1)\n",
    "    ax[0].plot(range(n+1), transformed_values)\n",
    "    ax[0].set_title(f\"Lager transformation n={n}\")\n",
    "    ax[0].set_xlabel(\"n\")\n",
    "    ax[0].set_ylabel(\"f_n\")\n",
    "    ax[0].set_xticks(range(n+1))\n",
    "    \n",
    "    ax[1].plot(np.linspace(t1, t2, 1000), reversed_trans_vals, label=\"reversed troransformed\", color=\"red\")\n",
    "    ax[1].plot(np.linspace(t1, t2, 1000),correct_vals, label=\"correct values\", linewidth=7.0, color=\"grey\", alpha=0.5)\n",
    "    ax[1].set_title(f\"Reversed transformation tє[{t1},  {t2}]\")\n",
    "    ax[1].set_xlabel(\"t\")\n",
    "    ax[1].set_ylabel(\"f(t)\")\n",
    "    ax[1].legend()\n",
    "    plt.show()\n"
   ]
  },
  {
   "cell_type": "code",
   "execution_count": 29,
   "id": "b81d810b-a5b7-4c90-94ef-9e999c53bd28",
   "metadata": {
    "tags": []
   },
   "outputs": [
    {
     "data": {
      "application/vnd.jupyter.widget-view+json": {
       "model_id": "40c83b3d141c4546a968d72cb8e2c0a9",
       "version_major": 2,
       "version_minor": 0
      },
      "text/plain": [
       "interactive(children=(IntSlider(value=5, description='N:', max=20, min=1), IntSlider(value=0, description='t1'…"
      ]
     },
     "metadata": {},
     "output_type": "display_data"
    }
   ],
   "source": [
    "def interactive_plot(func):\n",
    "    n_slider = widgets.IntSlider(description=\"N:\", min=1, max=20, value=5)\n",
    "    interact(plot_transformations, f=widgets.fixed(func), n=n_slider, beta=widgets.fixed(2), sigma=widgets.fixed(4))\n",
    "interactive_plot(f)"
   ]
  },
  {
   "cell_type": "markdown",
   "id": "9d196eb9-d4b5-4d47-afc6-9dad896df944",
   "metadata": {
    "tags": []
   },
   "source": [
    "### Для власної функції"
   ]
  },
  {
   "cell_type": "code",
   "execution_count": 30,
   "id": "58b4327d-43f7-4194-9940-f3083bcc62d1",
   "metadata": {
    "tags": []
   },
   "outputs": [],
   "source": [
    "def g(t):\n",
    "    if t!=0:\n",
    "        return np.cos(2*t+np.pi)*t\n",
    "    else:\n",
    "        return 0"
   ]
  },
  {
   "cell_type": "code",
   "execution_count": 31,
   "id": "06e51d5f-5725-429a-a742-cec648b3cbc5",
   "metadata": {
    "tags": []
   },
   "outputs": [
    {
     "data": {
      "application/vnd.jupyter.widget-view+json": {
       "model_id": "4b9592683d614d708510645e5ffee7a0",
       "version_major": 2,
       "version_minor": 0
      },
      "text/plain": [
       "interactive(children=(IntSlider(value=5, description='N:', max=20, min=1), IntSlider(value=0, description='t1'…"
      ]
     },
     "metadata": {},
     "output_type": "display_data"
    }
   ],
   "source": [
    "interactive_plot(g)"
   ]
  },
  {
   "cell_type": "code",
   "execution_count": null,
   "id": "7376ab6c-677c-4b55-81ac-9e88b93a2409",
   "metadata": {},
   "outputs": [],
   "source": []
  }
 ],
 "metadata": {
  "kernelspec": {
   "display_name": "Python 3 (ipykernel)",
   "language": "python",
   "name": "python3"
  },
  "language_info": {
   "codemirror_mode": {
    "name": "ipython",
    "version": 3
   },
   "file_extension": ".py",
   "mimetype": "text/x-python",
   "name": "python",
   "nbconvert_exporter": "python",
   "pygments_lexer": "ipython3",
   "version": "3.11.4"
  }
 },
 "nbformat": 4,
 "nbformat_minor": 5
}
